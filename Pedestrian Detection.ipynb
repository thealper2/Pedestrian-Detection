{
 "cells": [
  {
   "cell_type": "code",
   "execution_count": 6,
   "id": "8a55c1ec",
   "metadata": {},
   "outputs": [],
   "source": [
    "import cv2\n",
    "from imutils.object_detection import non_max_suppression\n",
    "import imutils\n",
    "import numpy as np"
   ]
  },
  {
   "cell_type": "code",
   "execution_count": 63,
   "id": "c20ed185",
   "metadata": {},
   "outputs": [],
   "source": [
    "image = cv2.imread('people.jpg')\n",
    "image = imutils.resize(image, width=1280, height=720)"
   ]
  },
  {
   "cell_type": "code",
   "execution_count": 64,
   "id": "23da1720",
   "metadata": {},
   "outputs": [],
   "source": [
    "hog = cv2.HOGDescriptor()\n",
    "hog.setSVMDetector(cv2.HOGDescriptor_getDefaultPeopleDetector())"
   ]
  },
  {
   "cell_type": "code",
   "execution_count": 65,
   "id": "d88b3441",
   "metadata": {},
   "outputs": [],
   "source": [
    "rects,weights = hog.detectMultiScale(image, winStride=(4,4), padding=(8,8), scale=1.05)"
   ]
  },
  {
   "cell_type": "code",
   "execution_count": 67,
   "id": "d696e5f4",
   "metadata": {},
   "outputs": [],
   "source": [
    "rect = np.array([[x, y, x+w, y+h] for x, y, w, h in rects])\n",
    "picks = non_max_suppression(rect, probs=None, overlapThresh=0.65)    \n",
    "\n",
    "counter = 1\n",
    "for x1, y1, x2, y2 in picks:\n",
    "    text = \"Human {}\".format(counter)\n",
    "    cv2.rectangle(image, (x1, y1),(x2, y2),(0, 255, 0), 2)\n",
    "    cv2.putText(image, text, (x1, y1-15), cv2.FONT_HERSHEY_SIMPLEX, 0.5, (0, 0, 255), 2)\n",
    "    counter += 1\n",
    "    \n",
    "cv2.imshow('Image', image)\n",
    "\n",
    "cv2.waitKey(0)\n",
    "cv2.destroyAllWindows()"
   ]
  },
  {
   "cell_type": "code",
   "execution_count": null,
   "id": "8217309b",
   "metadata": {},
   "outputs": [],
   "source": []
  }
 ],
 "metadata": {
  "kernelspec": {
   "display_name": "Python 3 (ipykernel)",
   "language": "python",
   "name": "python3"
  },
  "language_info": {
   "codemirror_mode": {
    "name": "ipython",
    "version": 3
   },
   "file_extension": ".py",
   "mimetype": "text/x-python",
   "name": "python",
   "nbconvert_exporter": "python",
   "pygments_lexer": "ipython3",
   "version": "3.11.2"
  }
 },
 "nbformat": 4,
 "nbformat_minor": 5
}
